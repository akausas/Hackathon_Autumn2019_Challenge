{
 "cells": [
  {
   "cell_type": "markdown",
   "metadata": {},
   "source": [
    "### Inspiration and contributions\n",
    "\n",
    "The following challenge was inspired by _Python Machine Learning: 1st Edition_ by _Sebastian Raschka_.\n",
    "\n",
    "Contributions to coding challenge (alphabetically): Mateusz Bieniek (KCL, London, UK), Matthew Wai Heng Chung (KCL, London, UK), Lisa Grant (UCL, London, UK), Anna Laddach (Francis Crick Institute, London, UK), Marius Kausas (Francis Crick Institute & KCL, London, UK), Paul Smith (KCL, London, UK)."
   ]
  },
  {
   "cell_type": "markdown",
   "metadata": {},
   "source": [
    "### Data Hackathon Challenge\n",
    "\n",
    "Based on previous medical data, can we predict the diagnosis for the unseen breast cancer biopsy?\n",
    "\n",
    "Let's use Supervised Machine Learning to classify breast cancer biopsies as either benign or malignant. We'll use two different methods - Logistic Regression and Random Forests - and compare our models' predictive power to that of human specialists."
   ]
  },
  {
   "cell_type": "markdown",
   "metadata": {},
   "source": [
    "### Challenge data set\n",
    "\n",
    "1. Title: Mammographic Mass Data\n",
    "\n",
    "2. Sources:\n",
    "\n",
    "   (a) Original owners of database:\n",
    "        Prof. Dr. Reudiger Schulz-Wendtland\n",
    "        Institute of Radiology, Gynaecological Radiology, University Erlangen-Nuremberg\n",
    "        Universitaetsstrasse 21-23\n",
    "        91054 Erlangen, Germany\n",
    "        \n",
    "   (b) Donor of database:\n",
    "        Matthias Elter\n",
    "        Fraunhofer Institute for Integrated Circuits (IIS)\n",
    "        Image Processing and Medical Engineering Department (BMT) \n",
    "        Am Wolfsmantel 33\n",
    "        91058 Erlangen, Germany\n",
    "        matthias.elter@iis.fraunhofer.de\n",
    "        (49) 9131-7767327 \n",
    "        \n",
    "   (c) Date received: October 2007\n",
    " \n",
    "3. Past Usage:\n",
    "    M. Elter, R. Schulz-Wendtland and T. Wittenberg (2007)\n",
    "    The prediction of breast cancer biopsy outcomes using two CAD approaches that both emphasize an intelligible decision process.\n",
    "    Medical Physics 34(11), pp. 4164-4172\n",
    "\n",
    "4. Relevant Information:\n",
    "    Mammography is the most effective method for breast cancer screening\n",
    "    available today. However, the low positive predictive value of breast\n",
    "    biopsy resulting from mammogram interpretation leads to approximately\n",
    "    70% unnecessary biopsies with benign outcomes. To reduce the high\n",
    "    number of unnecessary breast biopsies, several computer-aided diagnosis\n",
    "    (CAD) systems have been proposed in the last years.These systems\n",
    "    help physicians in their decision to perform a breast biopsy on a suspicious\n",
    "    lesion seen in a mammogram or to perform a short term follow-up\n",
    "    examination instead.\n",
    "    This data set can be used to predict the severity (benign or malignant)\n",
    "    of a mammographic mass lesion from BI-RADS attributes and the patient's age.\n",
    "    It contains a BI-RADS assessment, the patient's age and three BI-RADS attributes\n",
    "    together with the ground truth (the severity field) for 516 benign and\n",
    "    445 malignant masses that have been identified on full field digital mammograms\n",
    "    collected at the Institute of Radiology of the\n",
    "    University Erlangen-Nuremberg between 2003 and 2006.\n",
    "    Each instance has an associated BI-RADS assessment ranging from 1 (definitely benign)\n",
    "    to 5 (highly suggestive of malignancy) assigned in a double-review process by\n",
    "    physicians. Assuming that all cases with BI-RADS assessments greater or equal\n",
    "    a given value (varying from 1 to 5), are malignant and the other cases benign,\n",
    "    sensitivities and associated specificities can be calculated. These can be an\n",
    "    indication of how well a CAD system performs compared to the radiologists.\n",
    "\n",
    "5. Number of Instances: 961\n",
    "\n",
    "6. Number of Attributes: 6 (1 goal field, 1 non-predictive, 4 predictive attributes)\n",
    "\n",
    "7. Attribute Information:\n",
    "   1. BI-RADS assessment: 1 to 5 (ordinal)  \n",
    "   2. Age: patient's age in years (integer)\n",
    "   3. Shape: mass shape: round=1 oval=2 lobular=3 irregular=4 (nominal)\n",
    "   4. Margin: mass margin: circumscribed=1 microlobulated=2 obscured=3 ill-defined=4 spiculated=5 (nominal)\n",
    "   5. Density: mass density high=1 iso=2 low=3 fat-containing=4 (ordinal)\n",
    "   6. Severity: benign=0 or malignant=1 (binominal)\n",
    "\n",
    "8. Missing Attribute Values: Yes\n",
    "    - BI-RADS assessment:    2\n",
    "    - Age:                   5\n",
    "    - Shape:                31\n",
    "    - Margin:               48\n",
    "    - Density:              76\n",
    "    - Severity:              0\n",
    "\n",
    "9. Class Distribution: benign: 516; malignant: 445\n",
    "\n",
    "For more information, please follow to: [UCI Machine Learning Repository](http://archive.ics.uci.edu/ml/datasets/mammographic+mass)"
   ]
  },
  {
   "cell_type": "markdown",
   "metadata": {},
   "source": [
    "### Data Hackathon tasks\n",
    "\n",
    "#### Interacting with Python libraries through Application Programming Interface (API)\n",
    "\n",
    "Your task is try to grasp the internal structure of Python libraries, how to interact with an API and look-up useful methods for your research.\n",
    "\n",
    "#### Data pre-processing\n",
    "\n",
    "Your task is understand the nature of the dataset. Can you tell what will give you most predictive power?\n",
    "\n",
    "1. Understand what type of data do you have.\n",
    "2. Check for missing data values.\n",
    "3. Investigate dataset values by plotting histograms or scatter plots.\n",
    "\n",
    "#### Data encoding\n",
    "\n",
    "Why would you want to encode your data labels?\n",
    "\n",
    "#### Data preparation\n",
    "\n",
    "Why data preparation is important?\n",
    "\n",
    "1. Why we need training and tests sets?\n",
    "2. How does one split data into training and test sets using _scikit-learn_?\n",
    "\n",
    "#### Correlations\n",
    "\n",
    "Why would you investigate your data using correlations?\n",
    "\n",
    "1. What types of correlation there are?\n",
    "2. Using _scipy_ or _pandas_, calculate various types of correlations between any given two features.\n",
    "3. Calculate pair-wise correlations between dataset features and plot a heatmap using.\n",
    "\n",
    "#### Logistic regression\n",
    "\n",
    "Perform Logistic Regression.\n",
    "\n",
    "1. What is a Logistic Regression?\n",
    "2. What are the differences between Linear and Logistic regression?\n",
    "3. What are advantages and disadvantages of the method?\n",
    "4. Using _scikit-learn_, how do you set-up a Logistic Regression?\n",
    "\n",
    "#### Random Forests\n",
    "\n",
    "Investigate the use of Random Trees/Forests for data classification.\n",
    "\n",
    "1. What are Random Forests?\n",
    "2. What are advantages and disadvantages of the method?\n",
    "3. Using _scikit-learn_, how do you set-up a Random Forest model?\n",
    "4. How do you get feature importance from Random Forests?\n",
    "5. How would you optimize Random Forests' hyperparameters?\n",
    "\n",
    "#### Model performance\n",
    "\n",
    "What statistical measures can be used to quantify models performance?\n",
    "\n",
    "Investigate the following metrics:\n",
    "\n",
    "1. Accuracy.\n",
    "2. Precision.\n",
    "3. Recall.\n",
    "4. F1 score.\n",
    "5. Receiver operator characteristic (ROC).\n",
    "6. Area under the curve (AUC).\n",
    "7. Matthew's correlation coefficient.\n",
    "8. Confusion matrix.\n",
    "9. Out-of-bag error.\n",
    "\n",
    "#### Plotting\n",
    "\n",
    "Basics of _matloptlib_ and _seaborn_:\n",
    "\n",
    "1. Learn how to generate a basic plot.\n",
    "2. Change default _matplotlib_ or _seaborn_ plotting styles.\n",
    "3. Set basic plot attributes, such as labels, titles and colors.\n",
    "4. Save figures as .png format with a certain quality.\n",
    "5. Avoid typing plt.show() and set interactive plotting within IPython. \n",
    "6. Change figure dimensions within Ipython.\n",
    "\n",
    "#### Too easy?\n",
    "\n",
    "Cross-compare the performance of available classification algorithms and tell which works the best!"
   ]
  },
  {
   "cell_type": "markdown",
   "metadata": {},
   "source": [
    "#### Learning material for this Hackathon\n",
    "\n",
    "* _scikit_learn_ tutorial: [text](https://scikit-learn.org/stable/tutorial/index.html)\n",
    "* Logistic Regression: [video](https://www.youtube.com/watch?v=yIYKR4sgzI8)\n",
    "* Decision Trees:[video](https://www.youtube.com/watch?v=7VeUPuFGJHk)\n",
    "* Random Forests: [video](https://www.youtube.com/watch?v=J4Wdy0Wc_xQ)"
   ]
  },
  {
   "cell_type": "markdown",
   "metadata": {},
   "source": [
    "#### Loading Python libraries"
   ]
  },
  {
   "cell_type": "code",
   "execution_count": 154,
   "metadata": {},
   "outputs": [],
   "source": [
    "# Data manipulation libraries\n",
    "import numpy as np\n",
    "import pandas as pd\n",
    "import numpy as np\n",
    "\n",
    "# Correlation coefficients\n",
    "from scipy import stats\n",
    "\n",
    "# Metrics\n",
    "from sklearn.metrics import mean_squared_error, accuracy_score, precision_score, recall_score\n",
    "from sklearn.metrics import roc_curve, f1_score, roc_auc_score, matthews_corrcoef, confusion_matrix\n",
    "from sklearn.metrics import classification_report\n",
    "\n",
    "# Data pre-processing\n",
    "from sklearn.preprocessing import LabelEncoder\n",
    "from sklearn.model_selection import train_test_split\n",
    "\n",
    "# Regression models\n",
    "from sklearn.linear_model import LogisticRegression\n",
    "\n",
    "# Random Forests\n",
    "from sklearn.ensemble import RandomForestClassifier\n",
    "from sklearn.model_selection import GridSearchCV\n",
    "\n",
    "# Plotting libraries\n",
    "import matplotlib.pyplot as plt\n",
    "plt.style.use(\"ggplot\")                    # Set Matplotlib styling\n",
    "from matplotlib.pylab import rcParams      \n",
    "rcParams['figure.figsize'] = 10, 9          # Set figure size\n",
    "import seaborn as sns"
   ]
  },
  {
   "cell_type": "markdown",
   "metadata": {},
   "source": [
    "#### Data loading and processing\n",
    "\n",
    "In the beginning of every data analysis project, one must pre-process available data. Usually the pre-processing involves raw data inspection, visualization, dealing with missing values and preparing correct input for machine learning algortithms. If the data is from a publicly available research repository, reading the associated research articles often is very useful. \n",
    "\n",
    "The role of a researcher is to investigate and understand the available data set and choose the most appropriate modelling technique for the investigation of a given hypothesis. \n",
    "\n",
    "Thus, one would need to invest a considerable amount of time on the following section.  \n",
    " \n",
    "In this section, we will use _pandas_ and _numpy_ functionallities to load the [Mammographic Masses dataset](http://archive.ics.uci.edu/ml/datasets/mammographic+mass) and prepare the correct input for a machine learning model in _scikit_learn_.\n",
    "\n",
    "The data set of interest contains some missing values and some outliers. Can you detect them? How would you proceed?"
   ]
  },
  {
   "cell_type": "code",
   "execution_count": 155,
   "metadata": {},
   "outputs": [
    {
     "name": "stdout",
     "output_type": "stream",
     "text": [
      "Hackathon_Answers.ipynb    README.md\r\n",
      "Hackathon_Challenge.ipynb  corections.txt\r\n",
      "Hackathon_Presentation.pdf \u001b[34minput-data\u001b[m\u001b[m\r\n"
     ]
    }
   ],
   "source": [
    "# List current directory files\n",
    "!ls"
   ]
  },
  {
   "cell_type": "code",
   "execution_count": 156,
   "metadata": {},
   "outputs": [],
   "source": [
    "# Define column names\n",
    "df_col_names = [\"BI-RADS assessment\", \"Age\", \"Shape\", \"Margin\", \"Density\", \"Severity\"]"
   ]
  },
  {
   "cell_type": "markdown",
   "metadata": {},
   "source": [
    "Have you really understood the types of data you have?"
   ]
  },
  {
   "cell_type": "markdown",
   "metadata": {},
   "source": [
    "__Tasks:__\n",
    "\n",
    "- Using _pandas_, load mammographics_masses.data file."
   ]
  },
  {
   "cell_type": "code",
   "execution_count": 157,
   "metadata": {},
   "outputs": [],
   "source": [
    "# Load the data\n",
    "df = pd.read_csv(\"./input-data/mammographic_masses.data\", names = df_col_names)"
   ]
  },
  {
   "cell_type": "markdown",
   "metadata": {},
   "source": [
    "__Tasks:__\n",
    "\n",
    "- Inspect underlying data set for missing values - what are they?\n",
    "- Check which columns contain missing values."
   ]
  },
  {
   "cell_type": "code",
   "execution_count": 158,
   "metadata": {},
   "outputs": [
    {
     "data": {
      "text/html": [
       "<div>\n",
       "<style scoped>\n",
       "    .dataframe tbody tr th:only-of-type {\n",
       "        vertical-align: middle;\n",
       "    }\n",
       "\n",
       "    .dataframe tbody tr th {\n",
       "        vertical-align: top;\n",
       "    }\n",
       "\n",
       "    .dataframe thead th {\n",
       "        text-align: right;\n",
       "    }\n",
       "</style>\n",
       "<table border=\"1\" class=\"dataframe\">\n",
       "  <thead>\n",
       "    <tr style=\"text-align: right;\">\n",
       "      <th></th>\n",
       "      <th>BI-RADS assessment</th>\n",
       "      <th>Age</th>\n",
       "      <th>Shape</th>\n",
       "      <th>Margin</th>\n",
       "      <th>Density</th>\n",
       "      <th>Severity</th>\n",
       "    </tr>\n",
       "  </thead>\n",
       "  <tbody>\n",
       "    <tr>\n",
       "      <th>0</th>\n",
       "      <td>5</td>\n",
       "      <td>67</td>\n",
       "      <td>3</td>\n",
       "      <td>5</td>\n",
       "      <td>3</td>\n",
       "      <td>1</td>\n",
       "    </tr>\n",
       "    <tr>\n",
       "      <th>1</th>\n",
       "      <td>4</td>\n",
       "      <td>43</td>\n",
       "      <td>1</td>\n",
       "      <td>1</td>\n",
       "      <td>?</td>\n",
       "      <td>1</td>\n",
       "    </tr>\n",
       "    <tr>\n",
       "      <th>2</th>\n",
       "      <td>5</td>\n",
       "      <td>58</td>\n",
       "      <td>4</td>\n",
       "      <td>5</td>\n",
       "      <td>3</td>\n",
       "      <td>1</td>\n",
       "    </tr>\n",
       "    <tr>\n",
       "      <th>3</th>\n",
       "      <td>4</td>\n",
       "      <td>28</td>\n",
       "      <td>1</td>\n",
       "      <td>1</td>\n",
       "      <td>3</td>\n",
       "      <td>0</td>\n",
       "    </tr>\n",
       "    <tr>\n",
       "      <th>4</th>\n",
       "      <td>5</td>\n",
       "      <td>74</td>\n",
       "      <td>1</td>\n",
       "      <td>5</td>\n",
       "      <td>?</td>\n",
       "      <td>1</td>\n",
       "    </tr>\n",
       "  </tbody>\n",
       "</table>\n",
       "</div>"
      ],
      "text/plain": [
       "  BI-RADS assessment Age Shape Margin Density  Severity\n",
       "0                  5  67     3      5       3         1\n",
       "1                  4  43     1      1       ?         1\n",
       "2                  5  58     4      5       3         1\n",
       "3                  4  28     1      1       3         0\n",
       "4                  5  74     1      5       ?         1"
      ]
     },
     "execution_count": 158,
     "metadata": {},
     "output_type": "execute_result"
    }
   ],
   "source": [
    "# Print out head of the pandas DataFrame\n",
    "df.head()"
   ]
  },
  {
   "cell_type": "code",
   "execution_count": 159,
   "metadata": {},
   "outputs": [
    {
     "data": {
      "text/plain": [
       "array([1, 0])"
      ]
     },
     "execution_count": 159,
     "metadata": {},
     "output_type": "execute_result"
    }
   ],
   "source": [
    "# Check which columns contain missing values\n",
    "#df['BI-RADS assessment'].unique() # not correct values ? and 55\n",
    "#df['Age'].unique() # not correct values ? \n",
    "#df['Shape'].unique() # not correct values ? \n",
    "#df['Margin'].unique() # not correct values ? \n",
    "#df['Density'].unique() # not correct values ? \n",
    "df['Severity'].unique() # not correct values ? "
   ]
  },
  {
   "cell_type": "markdown",
   "metadata": {},
   "source": [
    "__Tasks:__\n",
    "\n",
    "- Identify indices of rows that contain missing values."
   ]
  },
  {
   "cell_type": "code",
   "execution_count": 160,
   "metadata": {},
   "outputs": [],
   "source": [
    "# Iterate over pandas DataFrame rows\n",
    "\n",
    "def inds_list(df, col_names, missing):\n",
    "    \"\"\" Returns list of indexes for a given missing value sorted and unique\n",
    "        df - DataFrame\n",
    "        col_names - list of column names\n",
    "        missing - missing value sting\"\"\"\n",
    "    \n",
    "    inds = []\n",
    "    \n",
    "    for name in col_names:\n",
    "        idx = df.loc[df[name] == missing].index.tolist()\n",
    "        inds.append(idx)\n",
    "    \n",
    "    # all values in sorted list\n",
    "    inds = sorted([item for sublist in inds for item in sublist])\n",
    "    \n",
    "    # choose uniqe values only\n",
    "    new_inds = []\n",
    "    for item in inds:\n",
    "        if item not in new_inds:\n",
    "            new_inds.append(item)\n",
    "    \n",
    "    return new_inds"
   ]
  },
  {
   "cell_type": "markdown",
   "metadata": {},
   "source": [
    "__Tasks:__\n",
    "\n",
    "- Separate your initial data set into complete and missing data sets.\n",
    "\n",
    "___Hint:___ Given the fact that _pandas_ are built connected to a _numpy_ interface, we can start working with _numpy_ arrays. \n",
    "\n",
    "To separate two data sets, we can generate a so-called \"mask\". In our case, \"mask\" will be a boolean array with True or False values indicating present and missing values, respectively. \n",
    "\n",
    "Due to the _numpy_ indexing ability, use the mask to extract complete data set. Subsequently, use the previously extracted indices to extract missing data set. "
   ]
  },
  {
   "cell_type": "code",
   "execution_count": 161,
   "metadata": {},
   "outputs": [
    {
     "name": "stderr",
     "output_type": "stream",
     "text": [
      "/Users/arvydaskausas/miniconda3/envs/marius/lib/python3.7/site-packages/pandas/core/ops/__init__.py:1115: FutureWarning: elementwise comparison failed; returning scalar instead, but in the future will perform elementwise comparison\n",
      "  result = method(y)\n"
     ]
    }
   ],
   "source": [
    "# Create a mask\n",
    "mask = inds_list(df, df_col_names, '?')"
   ]
  },
  {
   "cell_type": "code",
   "execution_count": 162,
   "metadata": {},
   "outputs": [
    {
     "data": {
      "text/html": [
       "<div>\n",
       "<style scoped>\n",
       "    .dataframe tbody tr th:only-of-type {\n",
       "        vertical-align: middle;\n",
       "    }\n",
       "\n",
       "    .dataframe tbody tr th {\n",
       "        vertical-align: top;\n",
       "    }\n",
       "\n",
       "    .dataframe thead th {\n",
       "        text-align: right;\n",
       "    }\n",
       "</style>\n",
       "<table border=\"1\" class=\"dataframe\">\n",
       "  <thead>\n",
       "    <tr style=\"text-align: right;\">\n",
       "      <th></th>\n",
       "      <th>BI-RADS assessment</th>\n",
       "      <th>Age</th>\n",
       "      <th>Shape</th>\n",
       "      <th>Margin</th>\n",
       "      <th>Density</th>\n",
       "      <th>Severity</th>\n",
       "    </tr>\n",
       "  </thead>\n",
       "  <tbody>\n",
       "    <tr>\n",
       "      <th>0</th>\n",
       "      <td>5</td>\n",
       "      <td>67</td>\n",
       "      <td>3</td>\n",
       "      <td>5</td>\n",
       "      <td>3</td>\n",
       "      <td>1</td>\n",
       "    </tr>\n",
       "    <tr>\n",
       "      <th>1</th>\n",
       "      <td>5</td>\n",
       "      <td>58</td>\n",
       "      <td>4</td>\n",
       "      <td>5</td>\n",
       "      <td>3</td>\n",
       "      <td>1</td>\n",
       "    </tr>\n",
       "    <tr>\n",
       "      <th>2</th>\n",
       "      <td>4</td>\n",
       "      <td>28</td>\n",
       "      <td>1</td>\n",
       "      <td>1</td>\n",
       "      <td>3</td>\n",
       "      <td>0</td>\n",
       "    </tr>\n",
       "    <tr>\n",
       "      <th>3</th>\n",
       "      <td>5</td>\n",
       "      <td>57</td>\n",
       "      <td>1</td>\n",
       "      <td>5</td>\n",
       "      <td>3</td>\n",
       "      <td>1</td>\n",
       "    </tr>\n",
       "    <tr>\n",
       "      <th>4</th>\n",
       "      <td>5</td>\n",
       "      <td>76</td>\n",
       "      <td>1</td>\n",
       "      <td>4</td>\n",
       "      <td>3</td>\n",
       "      <td>1</td>\n",
       "    </tr>\n",
       "    <tr>\n",
       "      <th>...</th>\n",
       "      <td>...</td>\n",
       "      <td>...</td>\n",
       "      <td>...</td>\n",
       "      <td>...</td>\n",
       "      <td>...</td>\n",
       "      <td>...</td>\n",
       "    </tr>\n",
       "    <tr>\n",
       "      <th>825</th>\n",
       "      <td>4</td>\n",
       "      <td>47</td>\n",
       "      <td>2</td>\n",
       "      <td>1</td>\n",
       "      <td>3</td>\n",
       "      <td>0</td>\n",
       "    </tr>\n",
       "    <tr>\n",
       "      <th>826</th>\n",
       "      <td>4</td>\n",
       "      <td>56</td>\n",
       "      <td>4</td>\n",
       "      <td>5</td>\n",
       "      <td>3</td>\n",
       "      <td>1</td>\n",
       "    </tr>\n",
       "    <tr>\n",
       "      <th>827</th>\n",
       "      <td>4</td>\n",
       "      <td>64</td>\n",
       "      <td>4</td>\n",
       "      <td>5</td>\n",
       "      <td>3</td>\n",
       "      <td>0</td>\n",
       "    </tr>\n",
       "    <tr>\n",
       "      <th>828</th>\n",
       "      <td>5</td>\n",
       "      <td>66</td>\n",
       "      <td>4</td>\n",
       "      <td>5</td>\n",
       "      <td>3</td>\n",
       "      <td>1</td>\n",
       "    </tr>\n",
       "    <tr>\n",
       "      <th>829</th>\n",
       "      <td>4</td>\n",
       "      <td>62</td>\n",
       "      <td>3</td>\n",
       "      <td>3</td>\n",
       "      <td>3</td>\n",
       "      <td>0</td>\n",
       "    </tr>\n",
       "  </tbody>\n",
       "</table>\n",
       "<p>830 rows × 6 columns</p>\n",
       "</div>"
      ],
      "text/plain": [
       "    BI-RADS assessment Age Shape Margin Density  Severity\n",
       "0                    5  67     3      5       3         1\n",
       "1                    5  58     4      5       3         1\n",
       "2                    4  28     1      1       3         0\n",
       "3                    5  57     1      5       3         1\n",
       "4                    5  76     1      4       3         1\n",
       "..                 ...  ..   ...    ...     ...       ...\n",
       "825                  4  47     2      1       3         0\n",
       "826                  4  56     4      5       3         1\n",
       "827                  4  64     4      5       3         0\n",
       "828                  5  66     4      5       3         1\n",
       "829                  4  62     3      3       3         0\n",
       "\n",
       "[830 rows x 6 columns]"
      ]
     },
     "execution_count": 162,
     "metadata": {},
     "output_type": "execute_result"
    }
   ],
   "source": [
    "# Complete data \n",
    "complete = df.drop(mask)\n",
    "complete.reset_index(drop=True, inplace=True)\n",
    "complete"
   ]
  },
  {
   "cell_type": "code",
   "execution_count": 163,
   "metadata": {},
   "outputs": [
    {
     "data": {
      "text/html": [
       "<div>\n",
       "<style scoped>\n",
       "    .dataframe tbody tr th:only-of-type {\n",
       "        vertical-align: middle;\n",
       "    }\n",
       "\n",
       "    .dataframe tbody tr th {\n",
       "        vertical-align: top;\n",
       "    }\n",
       "\n",
       "    .dataframe thead th {\n",
       "        text-align: right;\n",
       "    }\n",
       "</style>\n",
       "<table border=\"1\" class=\"dataframe\">\n",
       "  <thead>\n",
       "    <tr style=\"text-align: right;\">\n",
       "      <th></th>\n",
       "      <th>BI-RADS assessment</th>\n",
       "      <th>Age</th>\n",
       "      <th>Shape</th>\n",
       "      <th>Margin</th>\n",
       "      <th>Density</th>\n",
       "      <th>Severity</th>\n",
       "    </tr>\n",
       "  </thead>\n",
       "  <tbody>\n",
       "    <tr>\n",
       "      <th>1</th>\n",
       "      <td>4</td>\n",
       "      <td>43</td>\n",
       "      <td>1</td>\n",
       "      <td>1</td>\n",
       "      <td>?</td>\n",
       "      <td>1</td>\n",
       "    </tr>\n",
       "    <tr>\n",
       "      <th>4</th>\n",
       "      <td>5</td>\n",
       "      <td>74</td>\n",
       "      <td>1</td>\n",
       "      <td>5</td>\n",
       "      <td>?</td>\n",
       "      <td>1</td>\n",
       "    </tr>\n",
       "    <tr>\n",
       "      <th>5</th>\n",
       "      <td>4</td>\n",
       "      <td>65</td>\n",
       "      <td>1</td>\n",
       "      <td>?</td>\n",
       "      <td>3</td>\n",
       "      <td>0</td>\n",
       "    </tr>\n",
       "    <tr>\n",
       "      <th>6</th>\n",
       "      <td>4</td>\n",
       "      <td>70</td>\n",
       "      <td>?</td>\n",
       "      <td>?</td>\n",
       "      <td>3</td>\n",
       "      <td>0</td>\n",
       "    </tr>\n",
       "    <tr>\n",
       "      <th>7</th>\n",
       "      <td>5</td>\n",
       "      <td>42</td>\n",
       "      <td>1</td>\n",
       "      <td>?</td>\n",
       "      <td>3</td>\n",
       "      <td>0</td>\n",
       "    </tr>\n",
       "    <tr>\n",
       "      <th>...</th>\n",
       "      <td>...</td>\n",
       "      <td>...</td>\n",
       "      <td>...</td>\n",
       "      <td>...</td>\n",
       "      <td>...</td>\n",
       "      <td>...</td>\n",
       "    </tr>\n",
       "    <tr>\n",
       "      <th>778</th>\n",
       "      <td>4</td>\n",
       "      <td>60</td>\n",
       "      <td>?</td>\n",
       "      <td>4</td>\n",
       "      <td>3</td>\n",
       "      <td>0</td>\n",
       "    </tr>\n",
       "    <tr>\n",
       "      <th>819</th>\n",
       "      <td>4</td>\n",
       "      <td>35</td>\n",
       "      <td>3</td>\n",
       "      <td>?</td>\n",
       "      <td>2</td>\n",
       "      <td>0</td>\n",
       "    </tr>\n",
       "    <tr>\n",
       "      <th>824</th>\n",
       "      <td>6</td>\n",
       "      <td>40</td>\n",
       "      <td>?</td>\n",
       "      <td>3</td>\n",
       "      <td>4</td>\n",
       "      <td>1</td>\n",
       "    </tr>\n",
       "    <tr>\n",
       "      <th>884</th>\n",
       "      <td>5</td>\n",
       "      <td>?</td>\n",
       "      <td>4</td>\n",
       "      <td>4</td>\n",
       "      <td>3</td>\n",
       "      <td>1</td>\n",
       "    </tr>\n",
       "    <tr>\n",
       "      <th>923</th>\n",
       "      <td>5</td>\n",
       "      <td>?</td>\n",
       "      <td>4</td>\n",
       "      <td>3</td>\n",
       "      <td>3</td>\n",
       "      <td>1</td>\n",
       "    </tr>\n",
       "  </tbody>\n",
       "</table>\n",
       "<p>131 rows × 6 columns</p>\n",
       "</div>"
      ],
      "text/plain": [
       "    BI-RADS assessment Age Shape Margin Density  Severity\n",
       "1                    4  43     1      1       ?         1\n",
       "4                    5  74     1      5       ?         1\n",
       "5                    4  65     1      ?       3         0\n",
       "6                    4  70     ?      ?       3         0\n",
       "7                    5  42     1      ?       3         0\n",
       "..                 ...  ..   ...    ...     ...       ...\n",
       "778                  4  60     ?      4       3         0\n",
       "819                  4  35     3      ?       2         0\n",
       "824                  6  40     ?      3       4         1\n",
       "884                  5   ?     4      4       3         1\n",
       "923                  5   ?     4      3       3         1\n",
       "\n",
       "[131 rows x 6 columns]"
      ]
     },
     "execution_count": 163,
     "metadata": {},
     "output_type": "execute_result"
    }
   ],
   "source": [
    "# Missing data\n",
    "missing = df.iloc[mask]\n",
    "missing"
   ]
  },
  {
   "cell_type": "code",
   "execution_count": 164,
   "metadata": {},
   "outputs": [
    {
     "name": "stdout",
     "output_type": "stream",
     "text": [
      "<class 'pandas.core.frame.DataFrame'>\n",
      "RangeIndex: 830 entries, 0 to 829\n",
      "Data columns (total 6 columns):\n",
      "BI-RADS assessment    830 non-null float64\n",
      "Age                   830 non-null float64\n",
      "Shape                 830 non-null float64\n",
      "Margin                830 non-null float64\n",
      "Density               830 non-null float64\n",
      "Severity              830 non-null float64\n",
      "dtypes: float64(6)\n",
      "memory usage: 39.0 KB\n"
     ]
    }
   ],
   "source": [
    "# Convert complete data numpy array string values to float64 representation\n",
    "for item in df_col_names:\n",
    "    complete[item] = complete[item].astype('float64')\n",
    "\n",
    "# Replace 55 value to 5 in BI-RADS assessment\n",
    "complete.replace({55.0:5.0}, inplace=True)    \n",
    "\n",
    "complete.info()"
   ]
  },
  {
   "cell_type": "markdown",
   "metadata": {},
   "source": [
    "__Tasks:__\n",
    "\n",
    "-  From hereon, we are focusing on the complete data set. Given enough time, you should tihink about how to treat missing data and incorporate additional information into your model.\n",
    "- Separate features and diagnosis columns."
   ]
  },
  {
   "cell_type": "code",
   "execution_count": 165,
   "metadata": {},
   "outputs": [],
   "source": [
    "# Separate into features and diagnosis\n",
    "y = complete['Severity']\n",
    "X = complete.copy()\n",
    "X.drop('Severity', axis=1, inplace=True)"
   ]
  },
  {
   "cell_type": "code",
   "execution_count": 166,
   "metadata": {},
   "outputs": [
    {
     "data": {
      "text/html": [
       "<div>\n",
       "<style scoped>\n",
       "    .dataframe tbody tr th:only-of-type {\n",
       "        vertical-align: middle;\n",
       "    }\n",
       "\n",
       "    .dataframe tbody tr th {\n",
       "        vertical-align: top;\n",
       "    }\n",
       "\n",
       "    .dataframe thead th {\n",
       "        text-align: right;\n",
       "    }\n",
       "</style>\n",
       "<table border=\"1\" class=\"dataframe\">\n",
       "  <thead>\n",
       "    <tr style=\"text-align: right;\">\n",
       "      <th></th>\n",
       "      <th>BI-RADS assessment</th>\n",
       "      <th>Age</th>\n",
       "      <th>Shape</th>\n",
       "      <th>Margin</th>\n",
       "      <th>Density</th>\n",
       "    </tr>\n",
       "  </thead>\n",
       "  <tbody>\n",
       "    <tr>\n",
       "      <th>0</th>\n",
       "      <td>5.0</td>\n",
       "      <td>67.0</td>\n",
       "      <td>3.0</td>\n",
       "      <td>5.0</td>\n",
       "      <td>3.0</td>\n",
       "    </tr>\n",
       "    <tr>\n",
       "      <th>1</th>\n",
       "      <td>5.0</td>\n",
       "      <td>58.0</td>\n",
       "      <td>4.0</td>\n",
       "      <td>5.0</td>\n",
       "      <td>3.0</td>\n",
       "    </tr>\n",
       "    <tr>\n",
       "      <th>2</th>\n",
       "      <td>4.0</td>\n",
       "      <td>28.0</td>\n",
       "      <td>1.0</td>\n",
       "      <td>1.0</td>\n",
       "      <td>3.0</td>\n",
       "    </tr>\n",
       "    <tr>\n",
       "      <th>3</th>\n",
       "      <td>5.0</td>\n",
       "      <td>57.0</td>\n",
       "      <td>1.0</td>\n",
       "      <td>5.0</td>\n",
       "      <td>3.0</td>\n",
       "    </tr>\n",
       "    <tr>\n",
       "      <th>4</th>\n",
       "      <td>5.0</td>\n",
       "      <td>76.0</td>\n",
       "      <td>1.0</td>\n",
       "      <td>4.0</td>\n",
       "      <td>3.0</td>\n",
       "    </tr>\n",
       "  </tbody>\n",
       "</table>\n",
       "</div>"
      ],
      "text/plain": [
       "   BI-RADS assessment   Age  Shape  Margin  Density\n",
       "0                 5.0  67.0    3.0     5.0      3.0\n",
       "1                 5.0  58.0    4.0     5.0      3.0\n",
       "2                 4.0  28.0    1.0     1.0      3.0\n",
       "3                 5.0  57.0    1.0     5.0      3.0\n",
       "4                 5.0  76.0    1.0     4.0      3.0"
      ]
     },
     "execution_count": 166,
     "metadata": {},
     "output_type": "execute_result"
    }
   ],
   "source": [
    "X.head()"
   ]
  },
  {
   "cell_type": "markdown",
   "metadata": {},
   "source": [
    "__Tasks:__\n",
    "\n",
    "- Perform summary statistics on the feature data set.\n",
    "- To do that convert features array back to _pandas_ DataFrame and search for its summary statistics method."
   ]
  },
  {
   "cell_type": "code",
   "execution_count": 167,
   "metadata": {},
   "outputs": [
    {
     "data": {
      "text/html": [
       "<div>\n",
       "<style scoped>\n",
       "    .dataframe tbody tr th:only-of-type {\n",
       "        vertical-align: middle;\n",
       "    }\n",
       "\n",
       "    .dataframe tbody tr th {\n",
       "        vertical-align: top;\n",
       "    }\n",
       "\n",
       "    .dataframe thead th {\n",
       "        text-align: right;\n",
       "    }\n",
       "</style>\n",
       "<table border=\"1\" class=\"dataframe\">\n",
       "  <thead>\n",
       "    <tr style=\"text-align: right;\">\n",
       "      <th></th>\n",
       "      <th>BI-RADS assessment</th>\n",
       "      <th>Age</th>\n",
       "      <th>Shape</th>\n",
       "      <th>Margin</th>\n",
       "      <th>Density</th>\n",
       "    </tr>\n",
       "  </thead>\n",
       "  <tbody>\n",
       "    <tr>\n",
       "      <th>count</th>\n",
       "      <td>830.000000</td>\n",
       "      <td>830.000000</td>\n",
       "      <td>830.000000</td>\n",
       "      <td>830.000000</td>\n",
       "      <td>830.000000</td>\n",
       "    </tr>\n",
       "    <tr>\n",
       "      <th>mean</th>\n",
       "      <td>4.333735</td>\n",
       "      <td>54.396386</td>\n",
       "      <td>2.781928</td>\n",
       "      <td>2.813253</td>\n",
       "      <td>2.915663</td>\n",
       "    </tr>\n",
       "    <tr>\n",
       "      <th>std</th>\n",
       "      <td>0.688134</td>\n",
       "      <td>16.878069</td>\n",
       "      <td>1.242361</td>\n",
       "      <td>1.567175</td>\n",
       "      <td>0.350936</td>\n",
       "    </tr>\n",
       "    <tr>\n",
       "      <th>min</th>\n",
       "      <td>0.000000</td>\n",
       "      <td>5.000000</td>\n",
       "      <td>1.000000</td>\n",
       "      <td>1.000000</td>\n",
       "      <td>1.000000</td>\n",
       "    </tr>\n",
       "    <tr>\n",
       "      <th>25%</th>\n",
       "      <td>4.000000</td>\n",
       "      <td>44.000000</td>\n",
       "      <td>2.000000</td>\n",
       "      <td>1.000000</td>\n",
       "      <td>3.000000</td>\n",
       "    </tr>\n",
       "    <tr>\n",
       "      <th>50%</th>\n",
       "      <td>4.000000</td>\n",
       "      <td>57.000000</td>\n",
       "      <td>3.000000</td>\n",
       "      <td>3.000000</td>\n",
       "      <td>3.000000</td>\n",
       "    </tr>\n",
       "    <tr>\n",
       "      <th>75%</th>\n",
       "      <td>5.000000</td>\n",
       "      <td>66.000000</td>\n",
       "      <td>4.000000</td>\n",
       "      <td>4.000000</td>\n",
       "      <td>3.000000</td>\n",
       "    </tr>\n",
       "    <tr>\n",
       "      <th>max</th>\n",
       "      <td>6.000000</td>\n",
       "      <td>96.000000</td>\n",
       "      <td>4.000000</td>\n",
       "      <td>5.000000</td>\n",
       "      <td>4.000000</td>\n",
       "    </tr>\n",
       "  </tbody>\n",
       "</table>\n",
       "</div>"
      ],
      "text/plain": [
       "       BI-RADS assessment         Age       Shape      Margin     Density\n",
       "count          830.000000  830.000000  830.000000  830.000000  830.000000\n",
       "mean             4.333735   54.396386    2.781928    2.813253    2.915663\n",
       "std              0.688134   16.878069    1.242361    1.567175    0.350936\n",
       "min              0.000000    5.000000    1.000000    1.000000    1.000000\n",
       "25%              4.000000   44.000000    2.000000    1.000000    3.000000\n",
       "50%              4.000000   57.000000    3.000000    3.000000    3.000000\n",
       "75%              5.000000   66.000000    4.000000    4.000000    3.000000\n",
       "max              6.000000   96.000000    4.000000    5.000000    4.000000"
      ]
     },
     "execution_count": 167,
     "metadata": {},
     "output_type": "execute_result"
    }
   ],
   "source": [
    "# Get summary statistics\n",
    "X.describe()"
   ]
  },
  {
   "cell_type": "markdown",
   "metadata": {},
   "source": [
    "__Tasks:__\n",
    "\n",
    "- Perform visual inspection of your data set by plotting all values of a single column as a distribution, bar or histogram plots. Plot scatter plots between two different features. Plot anything that might give you a better understanding about your data set.\n",
    "\n",
    "- Which plots are suited for which data?\n",
    "\n",
    "- Investigate what one can plot using _matplotlib_ and _seaborn_ visualisation libraries. As _seaborn_ provides a high-level interface to _matplotlib_, it is suggested to start of with _seaborn_."
   ]
  },
  {
   "cell_type": "code",
   "execution_count": 168,
   "metadata": {},
   "outputs": [
    {
     "data": {
      "image/png": "[encoded data removed]",
      "text/plain": [
       "<Figure size 720x360 with 6 Axes>"
      ]
     },
     "metadata": {},
     "output_type": "display_data"
    }
   ],
   "source": [
    "# Visualize single feature values as a bar plot\n",
    "X_col_list = [\"BI-RADS assessment\", \"Age\", \"Shape\", \"Margin\", \"Density\"]\n",
    "complete[df_col_names].hist(figsize=(10,5));"
   ]
  },
  {
   "cell_type": "code",
   "execution_count": 169,
   "metadata": {},
   "outputs": [
    {
     "data": {
      "image/png": "[encoded data removed]",
      "text/plain": [
       "<Figure size 720x648 with 1 Axes>"
      ]
     },
     "metadata": {},
     "output_type": "display_data"
    }
   ],
   "source": [
    "# another bar plot\n",
    "y.hist();"
   ]
  },
  {
   "cell_type": "markdown",
   "metadata": {},
   "source": [
    "__Tasks:__\n",
    "\n",
    "- Perfom a cross-correlation analysis of your features. Investigate which features do or not cross-correlate. Given all you know about the data set, can you tell why do you observe such behaviour?\n",
    "\n",
    "- Perhaps, can you tell which features will be more important in modelling cancer biopsy outcomes?\n",
    "\n",
    "- What assumptions are used to calculate correlation scores? Why they might be important here?"
   ]
  },
  {
   "cell_type": "code",
   "execution_count": 170,
   "metadata": {},
   "outputs": [
    {
     "data": {
      "image/png": "[encoded data removed]",
      "text/plain": [
       "<Figure size 720x648 with 2 Axes>"
      ]
     },
     "metadata": {},
     "output_type": "display_data"
    }
   ],
   "source": [
    "a = complete.corr()\n",
    "sns.heatmap(a);"
   ]
  },
  {
   "cell_type": "code",
   "execution_count": 171,
   "metadata": {},
   "outputs": [],
   "source": [
    "# Manual calculation by creating empty numpy array and assigning correlation coefficients\n",
    "\n",
    "# Set the number of features\n",
    "\n",
    "# Define a zero 2D numpy matrix of shape (number_of_features, number_of_features)\n",
    "\n",
    "# Calculate pair-wise correlations between each features\n"
   ]
  },
  {
   "cell_type": "code",
   "execution_count": 172,
   "metadata": {},
   "outputs": [],
   "source": [
    "# Plot heatmaps of pair-wise correlations\n"
   ]
  },
  {
   "cell_type": "code",
   "execution_count": 173,
   "metadata": {},
   "outputs": [
    {
     "data": {
      "image/png": "[encoded data removed]",
      "text/plain": [
       "<Figure size 720x648 with 1 Axes>"
      ]
     },
     "metadata": {},
     "output_type": "display_data"
    }
   ],
   "source": [
    "plt.scatter(complete['Age'], complete['Density']);"
   ]
  },
  {
   "cell_type": "code",
   "execution_count": 174,
   "metadata": {},
   "outputs": [
    {
     "data": {
      "image/png": "[encoded data removed]",
      "text/plain": [
       "<Figure size 1080x1080 with 42 Axes>"
      ]
     },
     "metadata": {},
     "output_type": "display_data"
    }
   ],
   "source": [
    "sns.pairplot(complete);"
   ]
  },
  {
   "cell_type": "markdown",
   "metadata": {},
   "source": [
    "#### Preparation of training and test data sets\n",
    "\n",
    "In this section, we will prepare training and test data sets. We will train our selected machine learning models on a training data set (i.e a subset of the complete data set). Once, training is complete, we will predict diagnosis outcomes of a test data set (i.e the rest of the complete data set).\n",
    "\n",
    "Preparation of training and test sets is a crucial point of a machine learning protocols that will allow us to quantify how well our model works. We will be able to quantify model's performance using a set of statistical metrics."
   ]
  },
  {
   "cell_type": "markdown",
   "metadata": {},
   "source": [
    "__Tasks:__\n",
    "\n",
    "- Transform diagnosis data set into appropriate labels: benign=0 or malignant=1. Use the available functionality of LabelEncoder() to do that, even, if the initial diagnosis data set has the right labels. LabelEncoder() will return data in a right array shape."
   ]
  },
  {
   "cell_type": "code",
   "execution_count": 175,
   "metadata": {},
   "outputs": [
    {
     "data": {
      "text/plain": [
       "array([1, 1, 0, 1, 1, 1, 0, 0, 0, 0, 1, 1, 1, 1, 1, 1, 1, 0, 0, 1, 1, 0,\n",
       "       0, 0, 1, 0, 0, 0, 1, 1, 1, 0, 1, 0, 1, 1, 0, 1, 0, 0, 0, 0, 1, 0,\n",
       "       1, 0, 1, 0, 1, 0, 0, 1, 1, 1, 1, 1, 1, 1, 1, 0, 0, 0, 0, 1, 0, 0,\n",
       "       0, 1, 0, 1, 0, 0, 0, 0, 1, 1, 1, 0, 1, 1, 1, 1, 0, 1, 1, 0, 0, 1,\n",
       "       1, 1, 0, 1, 1, 0, 0, 0, 0, 1, 0, 0, 0, 1, 1, 0, 1, 1, 0, 0, 0, 0,\n",
       "       1, 0, 0, 1, 0, 0, 0, 0, 1, 1, 1, 1, 0, 1, 0, 1, 0, 1, 0, 1, 0, 0,\n",
       "       0, 0, 1, 0, 0, 1, 0, 1, 0, 0, 1, 1, 0, 0, 0, 0, 0, 0, 1, 1, 1, 0,\n",
       "       1, 0, 0, 0, 1, 1, 0, 1, 0, 0, 1, 0, 1, 0, 0, 0, 1, 0, 0, 1, 0, 0,\n",
       "       0, 1, 0, 1, 1, 1, 1, 1, 1, 1, 0, 0, 1, 0, 1, 0, 1, 1, 1, 1, 1, 0,\n",
       "       1, 0, 1, 0, 1, 0, 0, 1, 1, 0, 0, 1, 0, 1, 0, 1, 1, 0, 1, 0, 1, 1,\n",
       "       1, 0, 0, 0, 0, 0, 0, 0, 0, 1, 1, 1, 1, 0, 0, 0, 0, 1, 1, 1, 0, 1,\n",
       "       0, 0, 0, 0, 1, 1, 1, 0, 1, 1, 0, 1, 1, 1, 1, 1, 1, 0, 0, 0, 1, 0,\n",
       "       1, 0, 0, 1, 0, 0, 1, 0, 0, 1, 1, 1, 1, 0, 1, 0, 0, 0, 1, 1, 1, 1,\n",
       "       0, 1, 0, 1, 0, 1, 0, 1, 1, 0, 0, 1, 0, 1, 1, 0, 0, 1, 1, 0, 0, 1,\n",
       "       0, 1, 0, 1, 1, 1, 1, 0, 0, 1, 0, 1, 0, 1, 1, 1, 0, 1, 1, 1, 1, 0,\n",
       "       0, 1, 0, 1, 0, 1, 1, 0, 1, 0, 1, 1, 1, 1, 1, 0, 1, 1, 1, 0, 1, 1,\n",
       "       0, 0, 1, 1, 1, 0, 0, 0, 1, 1, 1, 0, 1, 0, 0, 1, 1, 0, 1, 0, 1, 0,\n",
       "       0, 0, 0, 0, 1, 0, 1, 0, 0, 0, 0, 0, 0, 1, 1, 0, 1, 1, 1, 1, 1, 0,\n",
       "       0, 1, 0, 0, 0, 0, 0, 1, 1, 1, 1, 0, 0, 1, 1, 1, 0, 0, 1, 0, 1, 0,\n",
       "       0, 1, 1, 1, 0, 1, 0, 0, 0, 0, 1, 0, 1, 0, 0, 0, 1, 1, 0, 0, 1, 1,\n",
       "       1, 1, 0, 0, 0, 0, 0, 1, 0, 1, 1, 0, 0, 1, 1, 0, 0, 0, 0, 0, 0, 0,\n",
       "       1, 0, 0, 1, 0, 0, 0, 1, 0, 0, 0, 0, 1, 1, 0, 1, 1, 0, 0, 0, 1, 0,\n",
       "       1, 1, 0, 1, 1, 1, 0, 1, 1, 0, 0, 1, 1, 1, 0, 1, 0, 1, 0, 1, 0, 0,\n",
       "       0, 0, 1, 1, 0, 1, 0, 0, 0, 0, 0, 1, 0, 1, 0, 0, 0, 1, 1, 0, 1, 0,\n",
       "       0, 0, 1, 0, 0, 1, 0, 1, 0, 1, 0, 1, 1, 0, 0, 1, 1, 1, 0, 0, 1, 0,\n",
       "       1, 1, 1, 1, 1, 1, 1, 1, 0, 0, 0, 0, 1, 1, 1, 1, 1, 1, 0, 1, 1, 0,\n",
       "       0, 0, 1, 0, 1, 1, 1, 0, 1, 0, 1, 0, 0, 1, 0, 0, 0, 1, 1, 0, 0, 0,\n",
       "       1, 1, 0, 0, 0, 1, 1, 0, 1, 1, 0, 0, 1, 1, 0, 0, 0, 0, 0, 1, 0, 0,\n",
       "       0, 0, 0, 0, 0, 1, 0, 1, 0, 0, 0, 1, 0, 0, 1, 1, 1, 1, 0, 1, 1, 1,\n",
       "       0, 1, 1, 0, 0, 1, 0, 0, 1, 0, 1, 0, 0, 0, 0, 0, 0, 1, 1, 0, 1, 0,\n",
       "       1, 1, 0, 0, 1, 1, 0, 0, 1, 1, 1, 0, 1, 1, 1, 0, 0, 0, 1, 1, 0, 1,\n",
       "       0, 1, 1, 1, 0, 1, 0, 0, 0, 0, 1, 0, 0, 1, 0, 1, 1, 0, 1, 1, 0, 1,\n",
       "       1, 0, 1, 0, 1, 0, 0, 0, 0, 1, 0, 0, 0, 0, 0, 1, 0, 0, 1, 0, 0, 1,\n",
       "       0, 1, 0, 1, 1, 1, 1, 1, 1, 1, 0, 1, 0, 0, 0, 1, 0, 1, 1, 0, 0, 0,\n",
       "       0, 1, 0, 1, 1, 0, 1, 1, 0, 1, 1, 1, 1, 1, 1, 0, 0, 1, 0, 1, 0, 1,\n",
       "       1, 1, 0, 1, 1, 0, 0, 1, 1, 0, 1, 0, 1, 0, 1, 0, 0, 1, 0, 0, 0, 1,\n",
       "       0, 1, 0, 1, 0, 1, 0, 0, 1, 0, 0, 0, 1, 0, 0, 0, 0, 1, 0, 1, 0, 1,\n",
       "       0, 0, 0, 1, 0, 1, 1, 1, 0, 0, 1, 0, 1, 0, 1, 0])"
      ]
     },
     "execution_count": 175,
     "metadata": {},
     "output_type": "execute_result"
    }
   ],
   "source": [
    "# Use method of LabelEncoder()\n",
    "encoder = LabelEncoder()\n",
    "encoder.fit_transform(y)"
   ]
  },
  {
   "cell_type": "markdown",
   "metadata": {},
   "source": [
    "__Tasks:__\n",
    "\n",
    "- Prepare training and test datasets using _scikit-learn_ by controlling the ration of data splitting.\n",
    "- Once you finish with a first classifier, investigate the effect of ratio splitting on your model's ability to predict the outcome of biopsy outcome. In such case, what is the minimum training data ratio is required to effectively predict biopsy outcome?"
   ]
  },
  {
   "cell_type": "code",
   "execution_count": 176,
   "metadata": {},
   "outputs": [],
   "source": [
    "# Define the proportion between training and test datasets\n",
    "proportion = 0.15\n",
    "SEED = 83\n",
    "\n",
    "# Split the dataset (random_state for analysis reproducibility)\n",
    "X_train, X_test, y_train, y_test = train_test_split(X, y, random_state=83, test_size = proportion)"
   ]
  },
  {
   "cell_type": "markdown",
   "metadata": {},
   "source": [
    "#### Logistic regression\n",
    "\n",
    "Let's choose logistic regression for training and classifying biopsy outcomes.\n",
    "\n",
    "__Tasks:__\n",
    "\n",
    "- Initialize a LogisticRegression model. Select Limited-memory BFGS algorithm as a solver for regression minimizaition. Set maximum number of iterations taken for the solver to converge to 5000.\n",
    "\n",
    "- Fit a LogisticRegression model on training data set.\n",
    "\n",
    "- Predict diagnosis labels for feature test data set.\n",
    "\n",
    "- Investigate other LogisticRegression model parameters. Is there anything you can do to improve the prediction accuracy? "
   ]
  },
  {
   "cell_type": "code",
   "execution_count": 177,
   "metadata": {},
   "outputs": [],
   "source": [
    "# Initialise Logistic Regression\n",
    "lg = LogisticRegression(solver='lbfgs', max_iter=5000, random_state=83)\n",
    "\n",
    "# Fit logistic regression model based on training data\n",
    "lg.fit(X_train, y_train)\n",
    "\n",
    "# Predict labels based on test dataset\n",
    "pred = lg.predict(X_test)"
   ]
  },
  {
   "cell_type": "markdown",
   "metadata": {},
   "source": [
    "__Tasks:__\n",
    "\n",
    "- Investigate the performance of your model by calculating accuracy of your regression model."
   ]
  },
  {
   "cell_type": "code",
   "execution_count": 178,
   "metadata": {},
   "outputs": [
    {
     "name": "stdout",
     "output_type": "stream",
     "text": [
      "Mean squarred error of logistic regression classifier on test set: 0.1120\n",
      "ROC of logistic regression classifier on test set: 0.8863\n",
      "Accuracy of logistic regression classifier on test set: 0.8880\n"
     ]
    }
   ],
   "source": [
    "# Get the results\n",
    "\n",
    "mse = mean_squared_error(y_test, pred)\n",
    "roc = roc_auc_score(y_test, pred)\n",
    "accuracy = accuracy_score(y_test, pred)\n",
    "# The mean accuracy on the given test data and labels\n",
    "print('Mean squarred error of logistic regression classifier on test set: {:.4f}'.format(mse))\n",
    "print('ROC of logistic regression classifier on test set: {:.4f}'.format(roc))\n",
    "print('Accuracy of logistic regression classifier on test set: {:.4f}'.format(accuracy))"
   ]
  },
  {
   "cell_type": "code",
   "execution_count": 179,
   "metadata": {},
   "outputs": [],
   "source": [
    "from sklearn.linear_model import LogisticRegressionCV"
   ]
  },
  {
   "cell_type": "code",
   "execution_count": 180,
   "metadata": {},
   "outputs": [],
   "source": [
    "# Initialise Logistic Regression\n",
    "lg2 = LogisticRegressionCV(cv=5, solver='lbfgs', max_iter=5000, random_state=83)\n",
    "\n",
    "# Fit logistic regression model based on training data\n",
    "lg2.fit(X_train, y_train)\n",
    "\n",
    "# Predict labels based on test dataset\n",
    "pred2 = lg2.predict(X_test)"
   ]
  },
  {
   "cell_type": "code",
   "execution_count": 181,
   "metadata": {},
   "outputs": [
    {
     "name": "stdout",
     "output_type": "stream",
     "text": [
      "Mean squarred error of logistic regression classifier on test set: 0.0960\n",
      "ROC of logistic regression classifier on test set: 0.9023\n",
      "Accuracy of logistic regression classifier on test set: 0.9040\n"
     ]
    }
   ],
   "source": [
    "# Get the results\n",
    "\n",
    "mse2 = mean_squared_error(y_test, pred2)\n",
    "roc2 = roc_auc_score(y_test, pred2)\n",
    "accuracy2 = accuracy_score(y_test, pred2)\n",
    "# The mean accuracy on the given test data and labels\n",
    "print('Mean squarred error of logistic regression classifier on test set: {:.4f}'.format(mse2))\n",
    "print('ROC of logistic regression classifier on test set: {:.4f}'.format(roc2))\n",
    "print('Accuracy of logistic regression classifier on test set: {:.4f}'.format(accuracy2))"
   ]
  },
  {
   "cell_type": "markdown",
   "metadata": {},
   "source": [
    "__Tasks:__\n",
    "\n",
    "- Print out a confusion matrix to explain the performance of a learning algorithm. Confusion matrix is simply a square matrix that reports the counts of the true positives, true negatives, false positives and false negatives.\n",
    "- Make sure to understand which parts of confusion matrix are what!"
   ]
  },
  {
   "cell_type": "code",
   "execution_count": 182,
   "metadata": {},
   "outputs": [
    {
     "data": {
      "text/plain": [
       "array([[61,  6],\n",
       "       [ 8, 50]])"
      ]
     },
     "execution_count": 182,
     "metadata": {},
     "output_type": "execute_result"
    }
   ],
   "source": [
    "# Calculate confusion matrix LogistriRegressionCV\n",
    "matrix = confusion_matrix(y_test, pred)\n",
    "matrix"
   ]
  },
  {
   "cell_type": "code",
   "execution_count": 183,
   "metadata": {},
   "outputs": [
    {
     "data": {
      "text/plain": [
       "array([[62,  5],\n",
       "       [ 7, 51]])"
      ]
     },
     "execution_count": 183,
     "metadata": {},
     "output_type": "execute_result"
    }
   ],
   "source": [
    "# Calculate confusion matrix LogistriRegressionCV\n",
    "matrix2 = confusion_matrix(y_test, pred2)\n",
    "matrix2"
   ]
  },
  {
   "cell_type": "code",
   "execution_count": 184,
   "metadata": {},
   "outputs": [
    {
     "data": {
      "text/plain": [
       "<matplotlib.axes._subplots.AxesSubplot at 0x1a20f59350>"
      ]
     },
     "execution_count": 184,
     "metadata": {},
     "output_type": "execute_result"
    },
    {
     "data": {
      "image/png": "[encoded data removed]",
      "text/plain": [
       "<Figure size 720x648 with 2 Axes>"
      ]
     },
     "metadata": {},
     "output_type": "display_data"
    }
   ],
   "source": [
    "# Plot confusion matrix heatmap\n",
    "sns.heatmap(matrix2)"
   ]
  },
  {
   "cell_type": "markdown",
   "metadata": {},
   "source": [
    "__Tasks:__\n",
    "\n",
    "- Use classification report to provide global overview of prediction in terms of precision, recall and f1-score. See _scikit-learn_ for more information. \n",
    "- One will be able to observe, how well prediction is performed for specific labels. Why a certain label has a higher prediction score than the other?"
   ]
  },
  {
   "cell_type": "code",
   "execution_count": 185,
   "metadata": {},
   "outputs": [
    {
     "name": "stdout",
     "output_type": "stream",
     "text": [
      "              precision    recall  f1-score   support\n",
      "\n",
      "         0.0       0.90      0.93      0.91        67\n",
      "         1.0       0.91      0.88      0.89        58\n",
      "\n",
      "    accuracy                           0.90       125\n",
      "   macro avg       0.90      0.90      0.90       125\n",
      "weighted avg       0.90      0.90      0.90       125\n",
      "\n"
     ]
    }
   ],
   "source": [
    "# Print out classification_report\n",
    "print(classification_report(y_test, pred2))"
   ]
  },
  {
   "cell_type": "markdown",
   "metadata": {},
   "source": [
    "__Tasks:__ \n",
    "\n",
    "- Plot a receiver operating characteristic (ROC) plot. Such graph is useful for selecting models based for classification based on their performance with respect to the false positive and true positive rates.  \n",
    "- Once, you have multiple classification models, plot multiple ROC curves to compare classification accuracies. "
   ]
  },
  {
   "cell_type": "code",
   "execution_count": 186,
   "metadata": {},
   "outputs": [],
   "source": [
    "# Calculate ROC curve\n",
    "a, b, _ = roc_curve(y_test, pred2)"
   ]
  },
  {
   "cell_type": "code",
   "execution_count": 187,
   "metadata": {},
   "outputs": [
    {
     "data": {
      "text/plain": [
       "[<matplotlib.lines.Line2D at 0x1a209a2990>]"
      ]
     },
     "execution_count": 187,
     "metadata": {},
     "output_type": "execute_result"
    },
    {
     "data": {
      "image/png": "[encoded data removed]",
      "text/plain": [
       "<Figure size 720x648 with 1 Axes>"
      ]
     },
     "metadata": {},
     "output_type": "display_data"
    }
   ],
   "source": [
    "# Plot ROC curve\n",
    "plt.figure()\n",
    "\n",
    "plt.plot(a, b)\n"
   ]
  },
  {
   "cell_type": "markdown",
   "metadata": {},
   "source": [
    "#### Random Forests\n",
    "\n",
    "_Tour de force_ of Logistic Regression allowed us to use multiple tools for setting up and analysing a basic machine learning algorithm. Now, we will introduce another classifier - Random Forests - to perform the prediction of breast cancer biopsies.\n",
    "\n",
    "Intuitively, Random Forests can be considered as an ensemble of Decision Trees. A Decision Tree is a model where one breaks down our data of interest by making decision based on asking a series of questions. By running multiple Decision Trees one asign class labels by a majority vote."
   ]
  },
  {
   "cell_type": "markdown",
   "metadata": {},
   "source": [
    "__Tasks:__\n",
    "\n",
    "- Split your data set in training and test sets.\n",
    "- Initialize a Random Forest classifier.\n",
    "- Train and predict biopsy outcomes using a new classifier."
   ]
  },
  {
   "cell_type": "code",
   "execution_count": 188,
   "metadata": {},
   "outputs": [
    {
     "name": "stderr",
     "output_type": "stream",
     "text": [
      "/Users/arvydaskausas/miniconda3/envs/marius/lib/python3.7/site-packages/sklearn/ensemble/forest.py:245: FutureWarning: The default value of n_estimators will change from 10 in version 0.20 to 100 in 0.22.\n",
      "  \"10 in version 0.20 to 100 in 0.22.\", FutureWarning)\n"
     ]
    }
   ],
   "source": [
    "# Split data for Random Forest\n",
    "rf_proportion = 0.15\n",
    "X_train, X_test, y_train, y_test = train_test_split(X, y, random_state=83, test_size = rf_proportion)\n",
    "\n",
    "# Initialize a Random Forest\n",
    "rf = RandomForestClassifier(random_state=SEED)\n",
    "rf.fit(X_train, y_train)\n",
    "# Train and predict with your Random Forest model\n",
    "pred3 = rf.predict(X_test)"
   ]
  },
  {
   "cell_type": "markdown",
   "metadata": {},
   "source": [
    "__Tasks:__\n",
    "\n",
    "- Calculate the following  scores:     \n",
    "    * model accuracy\n",
    "    * precision\n",
    "    * recall\n",
    "    * F1\n",
    "    * ROC\n",
    "    * area under the curve\n",
    "    * Matthew's correlation coefficient\n",
    "    * Matthew's correlation\n",
    "    * Confusion matrix\n",
    "    * Out-of-bag error."
   ]
  },
  {
   "cell_type": "code",
   "execution_count": 189,
   "metadata": {},
   "outputs": [
    {
     "name": "stdout",
     "output_type": "stream",
     "text": [
      "Mean squarred error of logistic regression classifier on test set: 0.1680\n",
      "ROC of logistic regression classifier on test set: 0.8282\n",
      "Accuracy of logistic regression classifier on test set: 0.8320\n"
     ]
    }
   ],
   "source": [
    "# Get metrics on model performance\n",
    "mse3 = mean_squared_error(y_test, pred3)\n",
    "roc3 = roc_auc_score(y_test, pred3)\n",
    "accuracy3 = accuracy_score(y_test, pred3)\n",
    "# The mean accuracy on the given test data and labels\n",
    "print('Mean squarred error of logistic regression classifier on test set: {:.4f}'.format(mse3))\n",
    "print('ROC of logistic regression classifier on test set: {:.4f}'.format(roc3))\n",
    "print('Accuracy of logistic regression classifier on test set: {:.4f}'.format(accuracy3))"
   ]
  },
  {
   "cell_type": "markdown",
   "metadata": {},
   "source": [
    "__Tasks:__\n",
    "\n",
    "- Random forest classifier can be useful, because it provides importance of training features for classification prediction. Calculate the importance of each feature. \n",
    "- Does this make sense with what we already know?"
   ]
  },
  {
   "cell_type": "code",
   "execution_count": 190,
   "metadata": {},
   "outputs": [
    {
     "name": "stdout",
     "output_type": "stream",
     "text": [
      "BI-RADS assessment 0.2634992163007036\n",
      "Age 0.32543719818788847\n",
      "Shape 0.17468033278465084\n",
      "Margin 0.20732093224148573\n",
      "Density 0.02906232048527138\n"
     ]
    }
   ],
   "source": [
    "# Get feature importances of random forest classifier\n",
    "for i in range(len(X_col_list)):\n",
    "    print(X_col_list[i], rf.feature_importances_[i])"
   ]
  },
  {
   "cell_type": "markdown",
   "metadata": {},
   "source": [
    "__Tasks:__\n",
    "\n",
    "- Plot importance of features as a bar plot with error bars."
   ]
  },
  {
   "cell_type": "code",
   "execution_count": 191,
   "metadata": {},
   "outputs": [
    {
     "data": {
      "text/plain": [
       "<BarContainer object of 5 artists>"
      ]
     },
     "execution_count": 191,
     "metadata": {},
     "output_type": "execute_result"
    },
    {
     "data": {
      "image/png": "[encoded data removed]",
      "text/plain": [
       "<Figure size 720x648 with 1 Axes>"
      ]
     },
     "metadata": {},
     "output_type": "display_data"
    }
   ],
   "source": [
    "# Plot the feature importances of the forest\n",
    "plt.bar(X_col_list, rf.feature_importances_)"
   ]
  },
  {
   "cell_type": "markdown",
   "metadata": {},
   "source": [
    "__Tasks:__\n",
    "\n",
    "- Perform hyperparameter tuning for RandomForest Classifier using GridSearch. Find the best set of hyperparameters to perform model training. \n",
    "- What are other ways to search for hyperparameters? Which ones could be better and why?"
   ]
  },
  {
   "cell_type": "code",
   "execution_count": 197,
   "metadata": {},
   "outputs": [],
   "source": [
    "# Grid search for best parameters\n",
    "params = {'n_estimators' : [100, 200, 300],\n",
    "         'max_depth': [1, 2, 3, 4, 5, 6],\n",
    "         'max_features': [1, 2, 3, 4, 5]}\n",
    "\n",
    "rf_grid = GridSearchCV(rf, params, cv=5, n_jobs=-1)"
   ]
  },
  {
   "cell_type": "code",
   "execution_count": 198,
   "metadata": {},
   "outputs": [
    {
     "data": {
      "text/plain": [
       "GridSearchCV(cv=5, error_score='raise-deprecating',\n",
       "             estimator=RandomForestClassifier(bootstrap=True, class_weight=None,\n",
       "                                              criterion='gini', max_depth=None,\n",
       "                                              max_features='auto',\n",
       "                                              max_leaf_nodes=None,\n",
       "                                              min_impurity_decrease=0.0,\n",
       "                                              min_impurity_split=None,\n",
       "                                              min_samples_leaf=1,\n",
       "                                              min_samples_split=2,\n",
       "                                              min_weight_fraction_leaf=0.0,\n",
       "                                              n_estimators=10, n_jobs=None,\n",
       "                                              oob_score=False, random_state=83,\n",
       "                                              verbose=0, warm_start=False),\n",
       "             iid='warn', n_jobs=-1,\n",
       "             param_grid={'max_depth': [1, 2, 3, 4, 5, 6],\n",
       "                         'max_features': [1, 2, 3, 4, 5],\n",
       "                         'n_estimators': [100, 200, 300]},\n",
       "             pre_dispatch='2*n_jobs', refit=True, return_train_score=False,\n",
       "             scoring=None, verbose=0)"
      ]
     },
     "execution_count": 198,
     "metadata": {},
     "output_type": "execute_result"
    }
   ],
   "source": [
    "rf_grid.fit(X_train, y_train)"
   ]
  },
  {
   "cell_type": "code",
   "execution_count": 199,
   "metadata": {},
   "outputs": [
    {
     "data": {
      "text/plain": [
       "{'max_depth': 3, 'max_features': 5, 'n_estimators': 100}"
      ]
     },
     "execution_count": 199,
     "metadata": {},
     "output_type": "execute_result"
    }
   ],
   "source": [
    "rf_grid.best_params_"
   ]
  },
  {
   "cell_type": "code",
   "execution_count": 200,
   "metadata": {},
   "outputs": [],
   "source": [
    "pred4 = rf_grid.predict(X_test)"
   ]
  },
  {
   "cell_type": "code",
   "execution_count": 201,
   "metadata": {},
   "outputs": [
    {
     "name": "stdout",
     "output_type": "stream",
     "text": [
      "Mean squarred error of logistic regression classifier on test set: 0.1200\n",
      "ROC of logistic regression classifier on test set: 0.8742\n",
      "Accuracy of logistic regression classifier on test set: 0.8800\n"
     ]
    }
   ],
   "source": [
    "# Get metrics on model performance\n",
    "mse4 = mean_squared_error(y_test, pred4)\n",
    "roc4 = roc_auc_score(y_test, pred4)\n",
    "accuracy4 = accuracy_score(y_test, pred4)\n",
    "# The mean accuracy on the given test data and labels\n",
    "print('Mean squarred error of logistic regression classifier on test set: {:.4f}'.format(mse4))\n",
    "print('ROC of logistic regression classifier on test set: {:.4f}'.format(roc4))\n",
    "print('Accuracy of logistic regression classifier on test set: {:.4f}'.format(accuracy4))"
   ]
  },
  {
   "cell_type": "code",
   "execution_count": null,
   "metadata": {},
   "outputs": [],
   "source": []
  },
  {
   "cell_type": "code",
   "execution_count": null,
   "metadata": {},
   "outputs": [],
   "source": []
  }
 ],
 "metadata": {
  "kernelspec": {
   "display_name": "Python 3",
   "language": "python",
   "name": "python3"
  },
  "language_info": {
   "codemirror_mode": {
    "name": "ipython",
    "version": 3
   },
   "file_extension": ".py",
   "mimetype": "text/x-python",
   "name": "python",
   "nbconvert_exporter": "python",
   "pygments_lexer": "ipython3",
   "version": "3.7.5"
  }
 },
 "nbformat": 4,
 "nbformat_minor": 4
}
